{
 "cells": [
  {
   "cell_type": "code",
   "id": "initial_id",
   "metadata": {
    "collapsed": true,
    "ExecuteTime": {
     "end_time": "2024-08-08T22:56:53.550623Z",
     "start_time": "2024-08-08T22:56:52.223446Z"
    }
   },
   "source": [
    "from importlib.metadata import metadata\n",
    "\n",
    "import pandas as pd\n",
    "import psycopg2\n",
    "import os\n",
    "import sys\n",
    "\n",
    "from panel import Column\n"
   ],
   "outputs": [],
   "execution_count": 2
  },
  {
   "metadata": {
    "ExecuteTime": {
     "end_time": "2024-08-08T22:56:54.926939Z",
     "start_time": "2024-08-08T22:56:54.916373Z"
    }
   },
   "cell_type": "code",
   "source": [
    "# Some neat code I made from our third project, it checks to see if a python script containing variables needed for sql has been made or not.\n",
    "# If it has not been made, it will create it. You can then proceed to fill out information in the strings.\n",
    "# This code has had some cross compatibility issues during the project, but it should work.\n",
    "sqlconfig = os.path.join(\"ConnectionString\",\"ConnectionString.py\")\n",
    "\n",
    "if not os.path.exists(sqlconfig):\n",
    "    with open(sqlconfig, 'w') as file:\n",
    "        file.write(f\"connectionString = ''\\nconnectionStringLocal = f'postgresql://{{username}}:{{password}}@{{host}}:{{port}}/{{database}}' \\nuser = ''\\npassword = ''\\nhost = ''\\nport = ''\")\n",
    "    print(f\"Configuration file has been created\")\n",
    "else:\n",
    "    print(f\"Configuration file already exists, importing...\")\n",
    "    \n",
    "from ConnectionString.ConnectionString import *"
   ],
   "id": "95acebca31b8d1db",
   "outputs": [
    {
     "name": "stdout",
     "output_type": "stream",
     "text": [
      "Configuration file already exists, importing...\n"
     ]
    }
   ],
   "execution_count": 3
  },
  {
   "metadata": {
    "ExecuteTime": {
     "end_time": "2024-08-08T22:57:02.765802Z",
     "start_time": "2024-08-08T22:57:02.519524Z"
    }
   },
   "cell_type": "code",
   "source": [
    "# Creating paths to the CSVs # ignore this was just testing something\n",
    "departmentsPath = \"data/departments.csv\"\n",
    "deptEMPPath = \"data/dept_emp.csv\"\n",
    "deptManagerPath = \"data/dept_manager.csv\"\n",
    "employeesPath = \"data/employees.csv\"\n",
    "salariesPath = \"data/salaries.csv\"\n",
    "titlesPath = \"data/titles.csv\"\n",
    "\n",
    "departmentsPath = os.path.abspath(departmentsPath)\n",
    "deptEMPPath = os.path.abspath(deptEMPPath)\n",
    "deptManagerPath = os.path.abspath(deptManagerPath)\n",
    "employeesPath = os.path.abspath(employeesPath)\n",
    "salariesPath = os.path.abspath(salariesPath)\n",
    "titlesPath = os.path.abspath(titlesPath)\n",
    "\n",
    "departments = pd.read_csv(departmentsPath)\n",
    "deptEMP = pd.read_csv(deptEMPPath)\n",
    "deptManager = pd.read_csv(deptManagerPath)\n",
    "employees = pd.read_csv(employeesPath)\n",
    "salaries = pd.read_csv(salariesPath)\n",
    "titles = pd.read_csv(titlesPath)\n"
   ],
   "id": "3eb3eaf4ca95a66",
   "outputs": [],
   "execution_count": 5
  },
  {
   "metadata": {
    "ExecuteTime": {
     "end_time": "2024-08-10T02:20:12.629622Z",
     "start_time": "2024-08-10T02:20:12.597314Z"
    }
   },
   "cell_type": "code",
   "source": [
    "# Connection to PostgreSQL server, and to the database I've created\n",
    "# attaching database name to a string\n",
    "database = \"Module9Challenge\"\n",
    "connection = psycopg2.connect(\n",
    "    host=host,\n",
    "    database=database,\n",
    "    user=username,\n",
    "    password=password\n",
    "    )\n",
    "\n",
    "cur = connection.cursor()\n"
   ],
   "id": "4d4396dde8fc7902",
   "outputs": [],
   "execution_count": 20
  },
  {
   "metadata": {
    "ExecuteTime": {
     "end_time": "2024-08-10T02:20:14.221472Z",
     "start_time": "2024-08-10T02:20:13.292882Z"
    }
   },
   "cell_type": "code",
   "source": [
    "# Creating tables on PostGRESQL server.\n",
    "cur.execute(\"\"\"\n",
    "    CREATE TABLE IF NOT EXISTS titles (\n",
    "        title_id VARCHAR PRIMARY KEY,\n",
    "        title VARCHAR\n",
    "    );\n",
    "    CREATE TABLE IF NOT EXISTS employees (\n",
    "        emp_no INT PRIMARY KEY,\n",
    "        emp_title_id VARCHAR,\n",
    "        birth_date DATE,\n",
    "        first_name VARCHAR,\n",
    "        last_name VARCHAR,\n",
    "        sex VARCHAR,\n",
    "        hire_date DATE,\n",
    "        FOREIGN KEY (emp_title_id) REFERENCES titles (title_id)\n",
    "    );    \n",
    "    CREATE TABLE IF NOT EXISTS departments (\n",
    "        dept_no VARCHAR PRIMARY KEY,\n",
    "        dept_name VARCHAR\n",
    "    );\n",
    "    CREATE TABLE IF NOT EXISTS dept_manager (\n",
    "        emp_no INT,\n",
    "        dept_no VARCHAR,\n",
    "        FOREIGN KEY (emp_no) REFERENCES employees (emp_no),\n",
    "        FOREIGN KEY (dept_no) REFERENCES departments (dept_no),\n",
    "        PRIMARY KEY (emp_no, dept_no)\n",
    "    );\n",
    "    CREATE TABLE IF NOT EXISTS dept_emp (\n",
    "        dept_no VARCHAR,\n",
    "        emp_no INT,\n",
    "        FOREIGN KEY (dept_no) REFERENCES departments (dept_no),\n",
    "        FOREIGN KEY (emp_no) REFERENCES employees (emp_no),\n",
    "        PRIMARY KEY (dept_no, emp_no)\n",
    "    );\n",
    "    CREATE TABLE IF NOT EXISTS salaries (\n",
    "        emp_no INT PRIMARY KEY,\n",
    "        salary VARCHAR,\n",
    "        FOREIGN KEY (emp_no) REFERENCES employees (emp_no)\n",
    "    );\n",
    "    \"\"\")\n",
    "connection.commit()\n",
    "connection.close"
   ],
   "id": "96ecf2573df7a4f7",
   "outputs": [
    {
     "data": {
      "text/plain": [
       "<function connection.close>"
      ]
     },
     "execution_count": 21,
     "metadata": {},
     "output_type": "execute_result"
    }
   ],
   "execution_count": 21
  },
  {
   "metadata": {},
   "cell_type": "code",
   "outputs": [],
   "execution_count": null,
   "source": "",
   "id": "951d3d5b22c2786d"
  }
 ],
 "metadata": {
  "kernelspec": {
   "display_name": "Python 3",
   "language": "python",
   "name": "python3"
  },
  "language_info": {
   "codemirror_mode": {
    "name": "ipython",
    "version": 2
   },
   "file_extension": ".py",
   "mimetype": "text/x-python",
   "name": "python",
   "nbconvert_exporter": "python",
   "pygments_lexer": "ipython2",
   "version": "2.7.6"
  }
 },
 "nbformat": 4,
 "nbformat_minor": 5
}
