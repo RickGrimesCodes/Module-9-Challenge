{
 "cells": [
  {
   "cell_type": "code",
   "id": "initial_id",
   "metadata": {
    "collapsed": true,
    "ExecuteTime": {
     "end_time": "2024-08-03T04:15:02.264556Z",
     "start_time": "2024-08-03T04:15:01.848169Z"
    }
   },
   "source": [
    "import pandas as pd\n",
    "import sqlalchemy\n",
    "import os\n",
    "import sys\n"
   ],
   "outputs": [],
   "execution_count": 1
  },
  {
   "metadata": {
    "ExecuteTime": {
     "end_time": "2024-08-03T04:15:11.074822Z",
     "start_time": "2024-08-03T04:15:10.808888Z"
    }
   },
   "cell_type": "code",
   "source": [
    "# Some neat code I made from the our third project, it checks to see if a python script containing variables needed for sql has been made or not.\n",
    "# If it has not been made, it will create it. You can then proceed to fill out information in the strings.\n",
    "# This code has had some cross compatibility issues during the project, but it should work.\n",
    "sqlconfig = os.path.join(\"ConnectionString\",\"ConnectionString.py\")\n",
    "\n",
    "if not os.path.exists(sqlconfig):\n",
    "    with open(sqlconfig, 'w') as file:\n",
    "        file.write(f\"connectionString = ''\\nconnectionStringLocal = f'postgresql//{{username}}:{{password}}@{{host}}:{{port}}/{{database}}' \\nuser = ''\\npassword = ''\\nhost = ''\\nport = ''\")\n",
    "    print(f\"Configuration file has been created\")\n",
    "else:\n",
    "    print(f\"Configuration file already exists, importing...\")\n",
    "    \n",
    "from ConnectionString.ConnectionString import *"
   ],
   "id": "95acebca31b8d1db",
   "outputs": [
    {
     "name": "stdout",
     "output_type": "stream",
     "text": [
      "Configuration file has been created\n"
     ]
    },
    {
     "ename": "NameError",
     "evalue": "name 'username' is not defined",
     "output_type": "error",
     "traceback": [
      "\u001B[1;31m---------------------------------------------------------------------------\u001B[0m",
      "\u001B[1;31mNameError\u001B[0m                                 Traceback (most recent call last)",
      "Cell \u001B[1;32mIn[2], line 13\u001B[0m\n\u001B[0;32m     10\u001B[0m \u001B[38;5;28;01melse\u001B[39;00m:\n\u001B[0;32m     11\u001B[0m     \u001B[38;5;28mprint\u001B[39m(\u001B[38;5;124mf\u001B[39m\u001B[38;5;124m\"\u001B[39m\u001B[38;5;124mConfiguration file already exists, importing...\u001B[39m\u001B[38;5;124m\"\u001B[39m)\n\u001B[1;32m---> 13\u001B[0m \u001B[38;5;28;01mfrom\u001B[39;00m \u001B[38;5;21;01mConnectionString\u001B[39;00m\u001B[38;5;21;01m.\u001B[39;00m\u001B[38;5;21;01mConnectionString\u001B[39;00m \u001B[38;5;28;01mimport\u001B[39;00m \u001B[38;5;241m*\u001B[39m\n",
      "File \u001B[1;32m~\\Documents\\GitHub\\Module-9-Challenge\\ConnectionString\\ConnectionString.py:2\u001B[0m\n\u001B[0;32m      1\u001B[0m connectionString \u001B[38;5;241m=\u001B[39m \u001B[38;5;124m'\u001B[39m\u001B[38;5;124m'\u001B[39m\n\u001B[1;32m----> 2\u001B[0m connectionStringLocal \u001B[38;5;241m=\u001B[39m \u001B[38;5;124mf\u001B[39m\u001B[38;5;124m'\u001B[39m\u001B[38;5;124mpostgresql//\u001B[39m\u001B[38;5;132;01m{\u001B[39;00m\u001B[43musername\u001B[49m\u001B[38;5;132;01m}\u001B[39;00m\u001B[38;5;124m:\u001B[39m\u001B[38;5;132;01m{\u001B[39;00mpassword\u001B[38;5;132;01m}\u001B[39;00m\u001B[38;5;124m@\u001B[39m\u001B[38;5;132;01m{\u001B[39;00mhost\u001B[38;5;132;01m}\u001B[39;00m\u001B[38;5;124m:\u001B[39m\u001B[38;5;132;01m{\u001B[39;00mport\u001B[38;5;132;01m}\u001B[39;00m\u001B[38;5;124m/\u001B[39m\u001B[38;5;132;01m{\u001B[39;00mdatabase\u001B[38;5;132;01m}\u001B[39;00m\u001B[38;5;124m'\u001B[39m \n\u001B[0;32m      3\u001B[0m user \u001B[38;5;241m=\u001B[39m \u001B[38;5;124m'\u001B[39m\u001B[38;5;124m'\u001B[39m\n\u001B[0;32m      4\u001B[0m password \u001B[38;5;241m=\u001B[39m \u001B[38;5;124m'\u001B[39m\u001B[38;5;124m'\u001B[39m\n",
      "\u001B[1;31mNameError\u001B[0m: name 'username' is not defined"
     ]
    }
   ],
   "execution_count": 2
  },
  {
   "metadata": {
    "ExecuteTime": {
     "end_time": "2024-08-03T04:40:22.734217Z",
     "start_time": "2024-08-03T04:40:22.512112Z"
    }
   },
   "cell_type": "code",
   "source": [
    "# Creating paths to the CSVs\n",
    "departmentsPath = \"data/departments.csv\"\n",
    "deptEMPPath = \"data/dept_emp.csv\"\n",
    "deptManagerPath = \"data/dept_manager.csv\"\n",
    "employeesPath = \"data/employees.csv\"\n",
    "salariesPath = \"data/salaries.csv\"\n",
    "titlesPath = \"data/titles.csv\"\n"
   ],
   "id": "3eb3eaf4ca95a66",
   "outputs": [],
   "execution_count": 3
  },
  {
   "metadata": {},
   "cell_type": "code",
   "outputs": [],
   "execution_count": null,
   "source": [
    "# Connection to PostgreSQL server, and to the database I've created\n",
    "# attaching database name to a string\n",
    "database = \"Module9Challenge\"\n",
    "# creating te connection engine\n",
    "engine = create_engine(connectionStringLocal)\n"
   ],
   "id": "4d4396dde8fc7902"
  }
 ],
 "metadata": {
  "kernelspec": {
   "display_name": "Python 3",
   "language": "python",
   "name": "python3"
  },
  "language_info": {
   "codemirror_mode": {
    "name": "ipython",
    "version": 2
   },
   "file_extension": ".py",
   "mimetype": "text/x-python",
   "name": "python",
   "nbconvert_exporter": "python",
   "pygments_lexer": "ipython2",
   "version": "2.7.6"
  }
 },
 "nbformat": 4,
 "nbformat_minor": 5
}
